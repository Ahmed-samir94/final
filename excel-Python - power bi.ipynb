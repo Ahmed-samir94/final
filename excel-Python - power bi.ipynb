{
 "cells": [
  {
   "cell_type": "code",
   "execution_count": 2,
   "id": "bbe2132a-fc04-4450-98a9-2b9a31994d0b",
   "metadata": {},
   "outputs": [],
   "source": [
    "import pandas as pd"
   ]
  },
  {
   "cell_type": "code",
   "execution_count": 3,
   "id": "b811d280-9f5c-47e0-800e-5f7698087f41",
   "metadata": {},
   "outputs": [],
   "source": [
    "df = pd.read_csv(\"housing.csv\")"
   ]
  },
  {
   "cell_type": "code",
   "execution_count": 4,
   "id": "23d3b4ae-27e0-4a93-a847-75d24d4709b3",
   "metadata": {},
   "outputs": [
    {
     "data": {
      "text/html": [
       "<div>\n",
       "<style scoped>\n",
       "    .dataframe tbody tr th:only-of-type {\n",
       "        vertical-align: middle;\n",
       "    }\n",
       "\n",
       "    .dataframe tbody tr th {\n",
       "        vertical-align: top;\n",
       "    }\n",
       "\n",
       "    .dataframe thead th {\n",
       "        text-align: right;\n",
       "    }\n",
       "</style>\n",
       "<table border=\"1\" class=\"dataframe\">\n",
       "  <thead>\n",
       "    <tr style=\"text-align: right;\">\n",
       "      <th></th>\n",
       "      <th>longitude</th>\n",
       "      <th>latitude</th>\n",
       "      <th>housing_median_age</th>\n",
       "      <th>total_rooms</th>\n",
       "      <th>total_bedrooms</th>\n",
       "      <th>population</th>\n",
       "      <th>households</th>\n",
       "      <th>median_income</th>\n",
       "      <th>median_house_value</th>\n",
       "      <th>ocean_proximity</th>\n",
       "    </tr>\n",
       "  </thead>\n",
       "  <tbody>\n",
       "    <tr>\n",
       "      <th>0</th>\n",
       "      <td>-122.23</td>\n",
       "      <td>37.88</td>\n",
       "      <td>41.0</td>\n",
       "      <td>880.0</td>\n",
       "      <td>129.0</td>\n",
       "      <td>322.0</td>\n",
       "      <td>126.0</td>\n",
       "      <td>8.3252</td>\n",
       "      <td>452600.0</td>\n",
       "      <td>NEAR BAY</td>\n",
       "    </tr>\n",
       "    <tr>\n",
       "      <th>1</th>\n",
       "      <td>-122.22</td>\n",
       "      <td>37.86</td>\n",
       "      <td>21.0</td>\n",
       "      <td>7099.0</td>\n",
       "      <td>1106.0</td>\n",
       "      <td>2401.0</td>\n",
       "      <td>1138.0</td>\n",
       "      <td>8.3014</td>\n",
       "      <td>358500.0</td>\n",
       "      <td>NEAR BAY</td>\n",
       "    </tr>\n",
       "    <tr>\n",
       "      <th>2</th>\n",
       "      <td>-122.24</td>\n",
       "      <td>37.85</td>\n",
       "      <td>52.0</td>\n",
       "      <td>1467.0</td>\n",
       "      <td>190.0</td>\n",
       "      <td>496.0</td>\n",
       "      <td>177.0</td>\n",
       "      <td>7.2574</td>\n",
       "      <td>352100.0</td>\n",
       "      <td>NEAR BAY</td>\n",
       "    </tr>\n",
       "    <tr>\n",
       "      <th>3</th>\n",
       "      <td>-122.25</td>\n",
       "      <td>37.85</td>\n",
       "      <td>52.0</td>\n",
       "      <td>1274.0</td>\n",
       "      <td>235.0</td>\n",
       "      <td>558.0</td>\n",
       "      <td>219.0</td>\n",
       "      <td>5.6431</td>\n",
       "      <td>341300.0</td>\n",
       "      <td>NEAR BAY</td>\n",
       "    </tr>\n",
       "    <tr>\n",
       "      <th>4</th>\n",
       "      <td>-122.25</td>\n",
       "      <td>37.85</td>\n",
       "      <td>52.0</td>\n",
       "      <td>1627.0</td>\n",
       "      <td>280.0</td>\n",
       "      <td>565.0</td>\n",
       "      <td>259.0</td>\n",
       "      <td>3.8462</td>\n",
       "      <td>342200.0</td>\n",
       "      <td>NEAR BAY</td>\n",
       "    </tr>\n",
       "    <tr>\n",
       "      <th>5</th>\n",
       "      <td>-122.25</td>\n",
       "      <td>37.85</td>\n",
       "      <td>52.0</td>\n",
       "      <td>919.0</td>\n",
       "      <td>213.0</td>\n",
       "      <td>413.0</td>\n",
       "      <td>193.0</td>\n",
       "      <td>4.0368</td>\n",
       "      <td>269700.0</td>\n",
       "      <td>NEAR BAY</td>\n",
       "    </tr>\n",
       "    <tr>\n",
       "      <th>6</th>\n",
       "      <td>-122.25</td>\n",
       "      <td>37.84</td>\n",
       "      <td>52.0</td>\n",
       "      <td>2535.0</td>\n",
       "      <td>489.0</td>\n",
       "      <td>1094.0</td>\n",
       "      <td>514.0</td>\n",
       "      <td>3.6591</td>\n",
       "      <td>299200.0</td>\n",
       "      <td>NEAR BAY</td>\n",
       "    </tr>\n",
       "    <tr>\n",
       "      <th>7</th>\n",
       "      <td>-122.25</td>\n",
       "      <td>37.84</td>\n",
       "      <td>52.0</td>\n",
       "      <td>3104.0</td>\n",
       "      <td>687.0</td>\n",
       "      <td>1157.0</td>\n",
       "      <td>647.0</td>\n",
       "      <td>3.1200</td>\n",
       "      <td>241400.0</td>\n",
       "      <td>NEAR BAY</td>\n",
       "    </tr>\n",
       "    <tr>\n",
       "      <th>8</th>\n",
       "      <td>-122.26</td>\n",
       "      <td>37.84</td>\n",
       "      <td>42.0</td>\n",
       "      <td>2555.0</td>\n",
       "      <td>665.0</td>\n",
       "      <td>1206.0</td>\n",
       "      <td>595.0</td>\n",
       "      <td>2.0804</td>\n",
       "      <td>226700.0</td>\n",
       "      <td>NEAR BAY</td>\n",
       "    </tr>\n",
       "    <tr>\n",
       "      <th>9</th>\n",
       "      <td>-122.25</td>\n",
       "      <td>37.84</td>\n",
       "      <td>52.0</td>\n",
       "      <td>3549.0</td>\n",
       "      <td>707.0</td>\n",
       "      <td>1551.0</td>\n",
       "      <td>714.0</td>\n",
       "      <td>3.6912</td>\n",
       "      <td>261100.0</td>\n",
       "      <td>NEAR BAY</td>\n",
       "    </tr>\n",
       "  </tbody>\n",
       "</table>\n",
       "</div>"
      ],
      "text/plain": [
       "   longitude  latitude  housing_median_age  total_rooms  total_bedrooms  \\\n",
       "0    -122.23     37.88                41.0        880.0           129.0   \n",
       "1    -122.22     37.86                21.0       7099.0          1106.0   \n",
       "2    -122.24     37.85                52.0       1467.0           190.0   \n",
       "3    -122.25     37.85                52.0       1274.0           235.0   \n",
       "4    -122.25     37.85                52.0       1627.0           280.0   \n",
       "5    -122.25     37.85                52.0        919.0           213.0   \n",
       "6    -122.25     37.84                52.0       2535.0           489.0   \n",
       "7    -122.25     37.84                52.0       3104.0           687.0   \n",
       "8    -122.26     37.84                42.0       2555.0           665.0   \n",
       "9    -122.25     37.84                52.0       3549.0           707.0   \n",
       "\n",
       "   population  households  median_income  median_house_value ocean_proximity  \n",
       "0       322.0       126.0         8.3252            452600.0        NEAR BAY  \n",
       "1      2401.0      1138.0         8.3014            358500.0        NEAR BAY  \n",
       "2       496.0       177.0         7.2574            352100.0        NEAR BAY  \n",
       "3       558.0       219.0         5.6431            341300.0        NEAR BAY  \n",
       "4       565.0       259.0         3.8462            342200.0        NEAR BAY  \n",
       "5       413.0       193.0         4.0368            269700.0        NEAR BAY  \n",
       "6      1094.0       514.0         3.6591            299200.0        NEAR BAY  \n",
       "7      1157.0       647.0         3.1200            241400.0        NEAR BAY  \n",
       "8      1206.0       595.0         2.0804            226700.0        NEAR BAY  \n",
       "9      1551.0       714.0         3.6912            261100.0        NEAR BAY  "
      ]
     },
     "execution_count": 4,
     "metadata": {},
     "output_type": "execute_result"
    }
   ],
   "source": [
    "df.head(10)"
   ]
  },
  {
   "cell_type": "markdown",
   "id": "a9d4c18d-6243-454c-9c17-7812a090591e",
   "metadata": {},
   "source": [
    "# 1 - What is the average of column with other column ?"
   ]
  },
  {
   "cell_type": "code",
   "execution_count": 5,
   "id": "b8acc2da-ccd0-44be-88d6-64caa64fdcf3",
   "metadata": {},
   "outputs": [
    {
     "name": "stderr",
     "output_type": "stream",
     "text": [
      "C:\\Users\\Ahmed Samir\\AppData\\Local\\Temp\\ipykernel_16572\\673913580.py:1: FutureWarning: The default value of numeric_only in DataFrame.mean is deprecated. In a future version, it will default to False. In addition, specifying 'numeric_only=None' is deprecated. Select only valid columns or specify the value of numeric_only to silence this warning.\n",
      "  df[['housing_median_age', 'ocean_proximity']].mean()\n"
     ]
    },
    {
     "data": {
      "text/plain": [
       "housing_median_age    28.639486\n",
       "dtype: float64"
      ]
     },
     "execution_count": 5,
     "metadata": {},
     "output_type": "execute_result"
    }
   ],
   "source": [
    "df[['housing_median_age', 'ocean_proximity']].mean()"
   ]
  },
  {
   "cell_type": "markdown",
   "id": "e037aac5-ee26-49ed-8434-114322b2ec74",
   "metadata": {},
   "source": [
    "- To Know average of column with other column"
   ]
  },
  {
   "cell_type": "markdown",
   "id": "4ab5ff4a-41c7-4a88-847f-682911b2c8d6",
   "metadata": {},
   "source": [
    "# 2 - What is the median_house_value applied to the INLAND in the ocean_proximity ?"
   ]
  },
  {
   "cell_type": "code",
   "execution_count": 6,
   "id": "67d705df-7275-4f00-9468-dc4a226c311b",
   "metadata": {},
   "outputs": [
    {
     "data": {
      "text/plain": [
       "954      315600.0\n",
       "957      323000.0\n",
       "965      337200.0\n",
       "967      311500.0\n",
       "968      296900.0\n",
       "           ...   \n",
       "20635     78100.0\n",
       "20636     77100.0\n",
       "20637     92300.0\n",
       "20638     84700.0\n",
       "20639     89400.0\n",
       "Name: median_house_value, Length: 6551, dtype: float64"
      ]
     },
     "execution_count": 6,
     "metadata": {},
     "output_type": "execute_result"
    }
   ],
   "source": [
    "df[df[\"ocean_proximity\"]== \"INLAND\" ][\"median_house_value\"]"
   ]
  },
  {
   "cell_type": "markdown",
   "id": "4482c84d-3599-4f3c-9dbd-a38378f2f9a7",
   "metadata": {},
   "source": [
    "- To Know the median_house_value applied to the INLAND in the ocean_proximity"
   ]
  },
  {
   "cell_type": "markdown",
   "id": "4f390792-8174-400a-a34c-98ba0555a079",
   "metadata": {},
   "source": [
    "# 3 - What is the housing_median_age applied to the NEAR BAY in the ocean_proximity ?"
   ]
  },
  {
   "cell_type": "code",
   "execution_count": 9,
   "id": "ed6cb989-82fb-4d8a-ae53-2be0a29fdcbd",
   "metadata": {},
   "outputs": [
    {
     "data": {
      "text/plain": [
       "0        41.0\n",
       "1        21.0\n",
       "2        52.0\n",
       "3        52.0\n",
       "4        52.0\n",
       "         ... \n",
       "19067    20.0\n",
       "19068    14.0\n",
       "19069    25.0\n",
       "19077     8.0\n",
       "19104     8.0\n",
       "Name: housing_median_age, Length: 2290, dtype: float64"
      ]
     },
     "execution_count": 9,
     "metadata": {},
     "output_type": "execute_result"
    }
   ],
   "source": [
    "df[df[\"ocean_proximity\"]== \"NEAR BAY\" ][\"housing_median_age\"]"
   ]
  },
  {
   "cell_type": "markdown",
   "id": "9e2a05e1-fc0f-4019-ab5c-ae179fde6b2d",
   "metadata": {},
   "source": [
    "- To Know the housing_median_age applied to the NEAR BAY in the ocean_proximity"
   ]
  },
  {
   "cell_type": "markdown",
   "id": "9e9cdc44-d3e0-4e89-8730-9eaf1f17c5e6",
   "metadata": {},
   "source": [
    "# 4 - What is the average population with households"
   ]
  },
  {
   "cell_type": "code",
   "execution_count": 10,
   "id": "0178bb6a-707d-43bb-b05a-3535a62af68b",
   "metadata": {},
   "outputs": [
    {
     "data": {
      "text/plain": [
       "population    1425.476744\n",
       "households     499.539680\n",
       "dtype: float64"
      ]
     },
     "execution_count": 10,
     "metadata": {},
     "output_type": "execute_result"
    }
   ],
   "source": [
    "df[['population', 'households']].mean()"
   ]
  },
  {
   "cell_type": "markdown",
   "id": "5ccc39e6-3ba3-47d0-a127-3567a317ce19",
   "metadata": {},
   "source": [
    "- To Know the average population with households"
   ]
  },
  {
   "cell_type": "markdown",
   "id": "84313659-0dab-4af1-8640-6d42b24d05da",
   "metadata": {},
   "source": [
    "# 5 - What is the revol.bal average for an installment with arrangement ?"
   ]
  },
  {
   "cell_type": "code",
   "execution_count": 11,
   "id": "fcba9fb7-2894-4f15-a3d5-d22194977a2a",
   "metadata": {},
   "outputs": [
    {
     "data": {
      "text/plain": [
       "total_rooms\n",
       "2.0           2.0\n",
       "6.0           2.0\n",
       "8.0           1.0\n",
       "11.0         11.0\n",
       "12.0          4.0\n",
       "            ...  \n",
       "30450.0    5033.0\n",
       "32054.0    5290.0\n",
       "32627.0    6445.0\n",
       "37937.0    5471.0\n",
       "39320.0    6210.0\n",
       "Name: total_bedrooms, Length: 5926, dtype: float64"
      ]
     },
     "execution_count": 11,
     "metadata": {},
     "output_type": "execute_result"
    }
   ],
   "source": [
    "df.groupby('total_rooms')['total_bedrooms'].mean()"
   ]
  },
  {
   "cell_type": "markdown",
   "id": "8926e19a-bd01-4518-aa6c-bc95781b733d",
   "metadata": {},
   "source": [
    "- To Know he revol.bal average for an installment with arrangement"
   ]
  },
  {
   "cell_type": "markdown",
   "id": "af05800f-2788-48fa-bdff-78cf2a0b2138",
   "metadata": {},
   "source": [
    "# 6 - What is the number of NEAR BAY in the ocean_proximity column ?"
   ]
  },
  {
   "cell_type": "code",
   "execution_count": 12,
   "id": "f1424004-6d32-4170-9201-359a217b5d45",
   "metadata": {},
   "outputs": [
    {
     "data": {
      "text/plain": [
       "longitude             2290\n",
       "latitude              2290\n",
       "housing_median_age    2290\n",
       "total_rooms           2290\n",
       "total_bedrooms        2270\n",
       "population            2290\n",
       "households            2290\n",
       "median_income         2290\n",
       "median_house_value    2290\n",
       "ocean_proximity       2290\n",
       "dtype: int64"
      ]
     },
     "execution_count": 12,
     "metadata": {},
     "output_type": "execute_result"
    }
   ],
   "source": [
    "df[df[\"ocean_proximity\"]==\"NEAR BAY\"].count()"
   ]
  },
  {
   "cell_type": "markdown",
   "id": "30b03a40-e3f6-4998-ad9f-456468059eb1",
   "metadata": {},
   "source": [
    "- To Know he number of NEAR BAY in the ocean_proximity column"
   ]
  },
  {
   "cell_type": "markdown",
   "id": "9a1ecb6d-79b2-4f3f-a4ec-f9b1556e0dc8",
   "metadata": {},
   "source": [
    "# 7 - What is the number of characters in the ocean_proximity ?"
   ]
  },
  {
   "cell_type": "code",
   "execution_count": 15,
   "id": "b7accf53-c8b7-4e84-97cb-74f79536a136",
   "metadata": {},
   "outputs": [
    {
     "data": {
      "text/plain": [
       "0        8\n",
       "1        8\n",
       "2        8\n",
       "3        8\n",
       "4        8\n",
       "        ..\n",
       "20635    6\n",
       "20636    6\n",
       "20637    6\n",
       "20638    6\n",
       "20639    6\n",
       "Name: ocean_proximity, Length: 20640, dtype: int64"
      ]
     },
     "execution_count": 15,
     "metadata": {},
     "output_type": "execute_result"
    }
   ],
   "source": [
    "df[\"ocean_proximity\"].apply(len)"
   ]
  },
  {
   "cell_type": "markdown",
   "id": "6d738f70-6c65-4f4b-9120-a61b558c79e3",
   "metadata": {},
   "source": [
    "- to know the number of characters in the column"
   ]
  },
  {
   "cell_type": "markdown",
   "id": "2636d3fa-b917-4ea6-8af5-dc022d962f56",
   "metadata": {},
   "source": [
    "# 8 - how to get minimum of characters with 2 columns?"
   ]
  },
  {
   "cell_type": "code",
   "execution_count": 17,
   "id": "8f0cb1f6-12b8-4fbd-bf05-2d47e23f5dcc",
   "metadata": {},
   "outputs": [
    {
     "data": {
      "text/plain": [
       "median_income             0.4999\n",
       "median_house_value    14999.0000\n",
       "dtype: float64"
      ]
     },
     "execution_count": 17,
     "metadata": {},
     "output_type": "execute_result"
    }
   ],
   "source": [
    "df[['median_income', 'median_house_value']].min()"
   ]
  },
  {
   "cell_type": "markdown",
   "id": "c8d778a1-6352-4d5c-bf7c-5db5787dfce0",
   "metadata": {},
   "source": [
    "- minimum of characters from median_income and median_house_value"
   ]
  },
  {
   "cell_type": "markdown",
   "id": "80893a04-447c-4758-b129-b80a4d90c377",
   "metadata": {},
   "source": [
    "# 9 - how to get maximum of characters with column?"
   ]
  },
  {
   "cell_type": "code",
   "execution_count": 18,
   "id": "6b0f3134-8345-4631-9721-e0616f5d8b4f",
   "metadata": {},
   "outputs": [
    {
     "data": {
      "text/plain": [
       "longitude              -114.31\n",
       "latitude                 41.95\n",
       "housing_median_age        52.0\n",
       "total_rooms            39320.0\n",
       "total_bedrooms          6210.0\n",
       "population             16305.0\n",
       "households              5358.0\n",
       "median_income          15.0001\n",
       "median_house_value    500001.0\n",
       "ocean_proximity         INLAND\n",
       "dtype: object"
      ]
     },
     "execution_count": 18,
     "metadata": {},
     "output_type": "execute_result"
    }
   ],
   "source": [
    "df[df[\"ocean_proximity\"]==\"INLAND\"].max()"
   ]
  },
  {
   "cell_type": "markdown",
   "id": "f010db63-5cb8-4e22-bbf8-77dc696836ae",
   "metadata": {},
   "source": [
    "- maximum of characters of : 'ocean_proximity' of row : 'INLAND'"
   ]
  },
  {
   "cell_type": "markdown",
   "id": "741cf1a8-fd7b-4cfc-b438-3aeb3adcd778",
   "metadata": {},
   "source": [
    "# 10 - How to display two columns in one table only?"
   ]
  },
  {
   "cell_type": "code",
   "execution_count": 19,
   "id": "a80880e4-d382-4065-8313-42942ebeb851",
   "metadata": {},
   "outputs": [
    {
     "data": {
      "text/html": [
       "<div>\n",
       "<style scoped>\n",
       "    .dataframe tbody tr th:only-of-type {\n",
       "        vertical-align: middle;\n",
       "    }\n",
       "\n",
       "    .dataframe tbody tr th {\n",
       "        vertical-align: top;\n",
       "    }\n",
       "\n",
       "    .dataframe thead th {\n",
       "        text-align: right;\n",
       "    }\n",
       "</style>\n",
       "<table border=\"1\" class=\"dataframe\">\n",
       "  <thead>\n",
       "    <tr style=\"text-align: right;\">\n",
       "      <th></th>\n",
       "      <th>population</th>\n",
       "      <th>households</th>\n",
       "    </tr>\n",
       "  </thead>\n",
       "  <tbody>\n",
       "    <tr>\n",
       "      <th>0</th>\n",
       "      <td>322.0</td>\n",
       "      <td>126.0</td>\n",
       "    </tr>\n",
       "    <tr>\n",
       "      <th>1</th>\n",
       "      <td>2401.0</td>\n",
       "      <td>1138.0</td>\n",
       "    </tr>\n",
       "    <tr>\n",
       "      <th>2</th>\n",
       "      <td>496.0</td>\n",
       "      <td>177.0</td>\n",
       "    </tr>\n",
       "    <tr>\n",
       "      <th>3</th>\n",
       "      <td>558.0</td>\n",
       "      <td>219.0</td>\n",
       "    </tr>\n",
       "    <tr>\n",
       "      <th>4</th>\n",
       "      <td>565.0</td>\n",
       "      <td>259.0</td>\n",
       "    </tr>\n",
       "    <tr>\n",
       "      <th>...</th>\n",
       "      <td>...</td>\n",
       "      <td>...</td>\n",
       "    </tr>\n",
       "    <tr>\n",
       "      <th>20635</th>\n",
       "      <td>845.0</td>\n",
       "      <td>330.0</td>\n",
       "    </tr>\n",
       "    <tr>\n",
       "      <th>20636</th>\n",
       "      <td>356.0</td>\n",
       "      <td>114.0</td>\n",
       "    </tr>\n",
       "    <tr>\n",
       "      <th>20637</th>\n",
       "      <td>1007.0</td>\n",
       "      <td>433.0</td>\n",
       "    </tr>\n",
       "    <tr>\n",
       "      <th>20638</th>\n",
       "      <td>741.0</td>\n",
       "      <td>349.0</td>\n",
       "    </tr>\n",
       "    <tr>\n",
       "      <th>20639</th>\n",
       "      <td>1387.0</td>\n",
       "      <td>530.0</td>\n",
       "    </tr>\n",
       "  </tbody>\n",
       "</table>\n",
       "<p>20640 rows × 2 columns</p>\n",
       "</div>"
      ],
      "text/plain": [
       "       population  households\n",
       "0           322.0       126.0\n",
       "1          2401.0      1138.0\n",
       "2           496.0       177.0\n",
       "3           558.0       219.0\n",
       "4           565.0       259.0\n",
       "...           ...         ...\n",
       "20635       845.0       330.0\n",
       "20636       356.0       114.0\n",
       "20637      1007.0       433.0\n",
       "20638       741.0       349.0\n",
       "20639      1387.0       530.0\n",
       "\n",
       "[20640 rows x 2 columns]"
      ]
     },
     "execution_count": 19,
     "metadata": {},
     "output_type": "execute_result"
    }
   ],
   "source": [
    "df[[\"population\" , \"households\"]]"
   ]
  },
  {
   "cell_type": "markdown",
   "id": "2a116e40-bb2d-4e30-b45e-cbe39e9d9261",
   "metadata": {},
   "source": [
    "- display column : 'population' with : 'households'"
   ]
  },
  {
   "cell_type": "markdown",
   "id": "aa3a0614-32b9-4ea6-b388-c3f0c640e4c2",
   "metadata": {},
   "source": [
    "# 11 - How to display 1 row shared with 2 different columns?"
   ]
  },
  {
   "cell_type": "code",
   "execution_count": 20,
   "id": "c766be10-68ab-4837-af9d-e3bf618f90ad",
   "metadata": {},
   "outputs": [
    {
     "data": {
      "text/plain": [
       "1        2401.0\n",
       "17139    2002.0\n",
       "17977    3580.0\n",
       "18377    3637.0\n",
       "18485    4168.0\n",
       "Name: population, dtype: float64"
      ]
     },
     "execution_count": 20,
     "metadata": {},
     "output_type": "execute_result"
    }
   ],
   "source": [
    "df[ df[\"households\"] == 1138.0 ] [\"population\"]"
   ]
  },
  {
   "cell_type": "markdown",
   "id": "b36dd7fe-879f-4c3b-866b-8b12114aa590",
   "metadata": {},
   "source": [
    "- to display 1 row shared with 2 different columns"
   ]
  },
  {
   "cell_type": "code",
   "execution_count": 21,
   "id": "15bedf08-1811-4fd2-8c6f-0e4e3072cb5a",
   "metadata": {},
   "outputs": [],
   "source": [
    "df.to_csv('example3.csv',index=False)"
   ]
  },
  {
   "cell_type": "code",
   "execution_count": null,
   "id": "a02b707a-aecc-4522-95c8-c6da87ddc5c9",
   "metadata": {},
   "outputs": [],
   "source": []
  },
  {
   "cell_type": "code",
   "execution_count": null,
   "id": "65c22c59-7dfc-424a-94b2-59c3c35cec2a",
   "metadata": {},
   "outputs": [],
   "source": []
  }
 ],
 "metadata": {
  "kernelspec": {
   "display_name": "Python 3 (ipykernel)",
   "language": "python",
   "name": "python3"
  },
  "language_info": {
   "codemirror_mode": {
    "name": "ipython",
    "version": 3
   },
   "file_extension": ".py",
   "mimetype": "text/x-python",
   "name": "python",
   "nbconvert_exporter": "python",
   "pygments_lexer": "ipython3",
   "version": "3.10.9"
  }
 },
 "nbformat": 4,
 "nbformat_minor": 5
}
