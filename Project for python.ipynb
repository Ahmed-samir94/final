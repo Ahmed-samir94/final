{
 "cells": [
  {
   "cell_type": "code",
   "execution_count": 2,
   "id": "9e815242-89ed-4a8c-a836-8f6067c24202",
   "metadata": {},
   "outputs": [],
   "source": [
    "import pandas as pd"
   ]
  },
  {
   "cell_type": "code",
   "execution_count": 3,
   "id": "5b5c6dc3-bebe-4a45-b799-88651586577f",
   "metadata": {},
   "outputs": [],
   "source": [
    "df = pd.read_csv(\"loan_data.csv\")"
   ]
  },
  {
   "cell_type": "code",
   "execution_count": 4,
   "id": "a927a101-bcd1-4381-a12e-d5c75de689fa",
   "metadata": {},
   "outputs": [
    {
     "data": {
      "text/html": [
       "<div>\n",
       "<style scoped>\n",
       "    .dataframe tbody tr th:only-of-type {\n",
       "        vertical-align: middle;\n",
       "    }\n",
       "\n",
       "    .dataframe tbody tr th {\n",
       "        vertical-align: top;\n",
       "    }\n",
       "\n",
       "    .dataframe thead th {\n",
       "        text-align: right;\n",
       "    }\n",
       "</style>\n",
       "<table border=\"1\" class=\"dataframe\">\n",
       "  <thead>\n",
       "    <tr style=\"text-align: right;\">\n",
       "      <th></th>\n",
       "      <th>credit.policy</th>\n",
       "      <th>purpose</th>\n",
       "      <th>int.rate</th>\n",
       "      <th>installment</th>\n",
       "      <th>log.annual.inc</th>\n",
       "      <th>dti</th>\n",
       "      <th>fico</th>\n",
       "      <th>days.with.cr.line</th>\n",
       "      <th>revol.bal</th>\n",
       "      <th>revol.util</th>\n",
       "      <th>inq.last.6mths</th>\n",
       "      <th>delinq.2yrs</th>\n",
       "      <th>pub.rec</th>\n",
       "      <th>not.fully.paid</th>\n",
       "    </tr>\n",
       "  </thead>\n",
       "  <tbody>\n",
       "    <tr>\n",
       "      <th>0</th>\n",
       "      <td>1</td>\n",
       "      <td>debt_consolidation</td>\n",
       "      <td>0.1189</td>\n",
       "      <td>829.10</td>\n",
       "      <td>11.350407</td>\n",
       "      <td>19.48</td>\n",
       "      <td>737</td>\n",
       "      <td>5639.958333</td>\n",
       "      <td>28854</td>\n",
       "      <td>52.1</td>\n",
       "      <td>0</td>\n",
       "      <td>0</td>\n",
       "      <td>0</td>\n",
       "      <td>0</td>\n",
       "    </tr>\n",
       "    <tr>\n",
       "      <th>1</th>\n",
       "      <td>1</td>\n",
       "      <td>credit_card</td>\n",
       "      <td>0.1071</td>\n",
       "      <td>228.22</td>\n",
       "      <td>11.082143</td>\n",
       "      <td>14.29</td>\n",
       "      <td>707</td>\n",
       "      <td>2760.000000</td>\n",
       "      <td>33623</td>\n",
       "      <td>76.7</td>\n",
       "      <td>0</td>\n",
       "      <td>0</td>\n",
       "      <td>0</td>\n",
       "      <td>0</td>\n",
       "    </tr>\n",
       "    <tr>\n",
       "      <th>2</th>\n",
       "      <td>1</td>\n",
       "      <td>debt_consolidation</td>\n",
       "      <td>0.1357</td>\n",
       "      <td>366.86</td>\n",
       "      <td>10.373491</td>\n",
       "      <td>11.63</td>\n",
       "      <td>682</td>\n",
       "      <td>4710.000000</td>\n",
       "      <td>3511</td>\n",
       "      <td>25.6</td>\n",
       "      <td>1</td>\n",
       "      <td>0</td>\n",
       "      <td>0</td>\n",
       "      <td>0</td>\n",
       "    </tr>\n",
       "    <tr>\n",
       "      <th>3</th>\n",
       "      <td>1</td>\n",
       "      <td>debt_consolidation</td>\n",
       "      <td>0.1008</td>\n",
       "      <td>162.34</td>\n",
       "      <td>11.350407</td>\n",
       "      <td>8.10</td>\n",
       "      <td>712</td>\n",
       "      <td>2699.958333</td>\n",
       "      <td>33667</td>\n",
       "      <td>73.2</td>\n",
       "      <td>1</td>\n",
       "      <td>0</td>\n",
       "      <td>0</td>\n",
       "      <td>0</td>\n",
       "    </tr>\n",
       "    <tr>\n",
       "      <th>4</th>\n",
       "      <td>1</td>\n",
       "      <td>credit_card</td>\n",
       "      <td>0.1426</td>\n",
       "      <td>102.92</td>\n",
       "      <td>11.299732</td>\n",
       "      <td>14.97</td>\n",
       "      <td>667</td>\n",
       "      <td>4066.000000</td>\n",
       "      <td>4740</td>\n",
       "      <td>39.5</td>\n",
       "      <td>0</td>\n",
       "      <td>1</td>\n",
       "      <td>0</td>\n",
       "      <td>0</td>\n",
       "    </tr>\n",
       "    <tr>\n",
       "      <th>5</th>\n",
       "      <td>1</td>\n",
       "      <td>credit_card</td>\n",
       "      <td>0.0788</td>\n",
       "      <td>125.13</td>\n",
       "      <td>11.904968</td>\n",
       "      <td>16.98</td>\n",
       "      <td>727</td>\n",
       "      <td>6120.041667</td>\n",
       "      <td>50807</td>\n",
       "      <td>51.0</td>\n",
       "      <td>0</td>\n",
       "      <td>0</td>\n",
       "      <td>0</td>\n",
       "      <td>0</td>\n",
       "    </tr>\n",
       "    <tr>\n",
       "      <th>6</th>\n",
       "      <td>1</td>\n",
       "      <td>debt_consolidation</td>\n",
       "      <td>0.1496</td>\n",
       "      <td>194.02</td>\n",
       "      <td>10.714418</td>\n",
       "      <td>4.00</td>\n",
       "      <td>667</td>\n",
       "      <td>3180.041667</td>\n",
       "      <td>3839</td>\n",
       "      <td>76.8</td>\n",
       "      <td>0</td>\n",
       "      <td>0</td>\n",
       "      <td>1</td>\n",
       "      <td>1</td>\n",
       "    </tr>\n",
       "    <tr>\n",
       "      <th>7</th>\n",
       "      <td>1</td>\n",
       "      <td>all_other</td>\n",
       "      <td>0.1114</td>\n",
       "      <td>131.22</td>\n",
       "      <td>11.002100</td>\n",
       "      <td>11.08</td>\n",
       "      <td>722</td>\n",
       "      <td>5116.000000</td>\n",
       "      <td>24220</td>\n",
       "      <td>68.6</td>\n",
       "      <td>0</td>\n",
       "      <td>0</td>\n",
       "      <td>0</td>\n",
       "      <td>1</td>\n",
       "    </tr>\n",
       "    <tr>\n",
       "      <th>8</th>\n",
       "      <td>1</td>\n",
       "      <td>home_improvement</td>\n",
       "      <td>0.1134</td>\n",
       "      <td>87.19</td>\n",
       "      <td>11.407565</td>\n",
       "      <td>17.25</td>\n",
       "      <td>682</td>\n",
       "      <td>3989.000000</td>\n",
       "      <td>69909</td>\n",
       "      <td>51.1</td>\n",
       "      <td>1</td>\n",
       "      <td>0</td>\n",
       "      <td>0</td>\n",
       "      <td>0</td>\n",
       "    </tr>\n",
       "    <tr>\n",
       "      <th>9</th>\n",
       "      <td>1</td>\n",
       "      <td>debt_consolidation</td>\n",
       "      <td>0.1221</td>\n",
       "      <td>84.12</td>\n",
       "      <td>10.203592</td>\n",
       "      <td>10.00</td>\n",
       "      <td>707</td>\n",
       "      <td>2730.041667</td>\n",
       "      <td>5630</td>\n",
       "      <td>23.0</td>\n",
       "      <td>1</td>\n",
       "      <td>0</td>\n",
       "      <td>0</td>\n",
       "      <td>0</td>\n",
       "    </tr>\n",
       "  </tbody>\n",
       "</table>\n",
       "</div>"
      ],
      "text/plain": [
       "   credit.policy             purpose  int.rate  installment  log.annual.inc  \\\n",
       "0              1  debt_consolidation    0.1189       829.10       11.350407   \n",
       "1              1         credit_card    0.1071       228.22       11.082143   \n",
       "2              1  debt_consolidation    0.1357       366.86       10.373491   \n",
       "3              1  debt_consolidation    0.1008       162.34       11.350407   \n",
       "4              1         credit_card    0.1426       102.92       11.299732   \n",
       "5              1         credit_card    0.0788       125.13       11.904968   \n",
       "6              1  debt_consolidation    0.1496       194.02       10.714418   \n",
       "7              1           all_other    0.1114       131.22       11.002100   \n",
       "8              1    home_improvement    0.1134        87.19       11.407565   \n",
       "9              1  debt_consolidation    0.1221        84.12       10.203592   \n",
       "\n",
       "     dti  fico  days.with.cr.line  revol.bal  revol.util  inq.last.6mths  \\\n",
       "0  19.48   737        5639.958333      28854        52.1               0   \n",
       "1  14.29   707        2760.000000      33623        76.7               0   \n",
       "2  11.63   682        4710.000000       3511        25.6               1   \n",
       "3   8.10   712        2699.958333      33667        73.2               1   \n",
       "4  14.97   667        4066.000000       4740        39.5               0   \n",
       "5  16.98   727        6120.041667      50807        51.0               0   \n",
       "6   4.00   667        3180.041667       3839        76.8               0   \n",
       "7  11.08   722        5116.000000      24220        68.6               0   \n",
       "8  17.25   682        3989.000000      69909        51.1               1   \n",
       "9  10.00   707        2730.041667       5630        23.0               1   \n",
       "\n",
       "   delinq.2yrs  pub.rec  not.fully.paid  \n",
       "0            0        0               0  \n",
       "1            0        0               0  \n",
       "2            0        0               0  \n",
       "3            0        0               0  \n",
       "4            1        0               0  \n",
       "5            0        0               0  \n",
       "6            0        1               1  \n",
       "7            0        0               1  \n",
       "8            0        0               0  \n",
       "9            0        0               0  "
      ]
     },
     "execution_count": 4,
     "metadata": {},
     "output_type": "execute_result"
    }
   ],
   "source": [
    "df.head(10)"
   ]
  },
  {
   "cell_type": "markdown",
   "id": "6679196e-f9ce-4f4d-872f-30409fbfea40",
   "metadata": {
    "tags": []
   },
   "source": [
    "# 1 - What is the average of column with other column ?"
   ]
  },
  {
   "cell_type": "code",
   "execution_count": 70,
   "id": "7381d73e-c10f-491c-940f-cf973f3a646b",
   "metadata": {},
   "outputs": [
    {
     "name": "stderr",
     "output_type": "stream",
     "text": [
      "C:\\Users\\Ahmed Samir\\AppData\\Local\\Temp\\ipykernel_16600\\1396717995.py:1: FutureWarning: The default value of numeric_only in DataFrame.mean is deprecated. In a future version, it will default to False. In addition, specifying 'numeric_only=None' is deprecated. Select only valid columns or specify the value of numeric_only to silence this warning.\n",
      "  df[['installment', 'purpose']].mean()\n"
     ]
    },
    {
     "data": {
      "text/plain": [
       "installment    319.089413\n",
       "dtype: float64"
      ]
     },
     "execution_count": 70,
     "metadata": {},
     "output_type": "execute_result"
    }
   ],
   "source": [
    "df[['installment', 'purpose']].mean()"
   ]
  },
  {
   "cell_type": "markdown",
   "id": "ba1c5122-b644-43c7-8447-b1bcf375bc98",
   "metadata": {},
   "source": [
    "- To Know average of column with other column"
   ]
  },
  {
   "cell_type": "markdown",
   "id": "1b8e20d6-fc01-42bb-9680-aeeb6ff77257",
   "metadata": {},
   "source": [
    "# 2 - What is the installment applied to the credit_card in the purpose ?"
   ]
  },
  {
   "cell_type": "code",
   "execution_count": 17,
   "id": "8bf7f5ad-0c64-42a7-9494-218dd5e910dd",
   "metadata": {},
   "outputs": [
    {
     "data": {
      "text/plain": [
       "1       228.22\n",
       "4       102.92\n",
       "5       125.13\n",
       "17      476.58\n",
       "22      339.60\n",
       "         ...  \n",
       "9526    437.93\n",
       "9530    425.56\n",
       "9538    244.28\n",
       "9557    466.35\n",
       "9559    688.11\n",
       "Name: installment, Length: 1262, dtype: float64"
      ]
     },
     "execution_count": 17,
     "metadata": {},
     "output_type": "execute_result"
    }
   ],
   "source": [
    "df[df[\"purpose\"]== \"credit_card\" ][\"installment\"]"
   ]
  },
  {
   "cell_type": "markdown",
   "id": "ba1b0d7b-21e0-43ee-a261-b8415b45e35e",
   "metadata": {},
   "source": [
    "- To Know the installment applied to the credit_card in the purpose "
   ]
  },
  {
   "cell_type": "markdown",
   "id": "46b679eb-941f-43fd-a37c-a3f21a0b6f1a",
   "metadata": {},
   "source": [
    "# 3 - What is the days.with.cr.line applied to the debt_consolidation in the purpose ?"
   ]
  },
  {
   "cell_type": "code",
   "execution_count": 21,
   "id": "e44739bc-953f-423b-a9a8-9541115479f7",
   "metadata": {},
   "outputs": [
    {
     "data": {
      "text/plain": [
       "0       5639.958333\n",
       "2       4710.000000\n",
       "3       2699.958333\n",
       "6       3180.041667\n",
       "9       2730.041667\n",
       "           ...     \n",
       "9562    3870.041667\n",
       "9563    6840.041667\n",
       "9572    8190.041667\n",
       "9575    3450.041667\n",
       "9577    4740.000000\n",
       "Name: days.with.cr.line, Length: 3957, dtype: float64"
      ]
     },
     "execution_count": 21,
     "metadata": {},
     "output_type": "execute_result"
    }
   ],
   "source": [
    "df[df[\"purpose\"]== \"debt_consolidation\" ][\"days.with.cr.line\"]"
   ]
  },
  {
   "cell_type": "markdown",
   "id": "38132b7c-777b-4a87-89ab-cd9c2b689a82",
   "metadata": {},
   "source": [
    "- To Know the days.with.cr.line applied to the debt_consolidation in the purpose "
   ]
  },
  {
   "cell_type": "markdown",
   "id": "f441ef1c-768d-4e27-8c1b-c1dd6f02f026",
   "metadata": {},
   "source": [
    "# 4 - What is the average installment with days.with.cr.line?"
   ]
  },
  {
   "cell_type": "code",
   "execution_count": 22,
   "id": "d80c89f2-a2e8-4616-89b6-ab28cdde8940",
   "metadata": {},
   "outputs": [
    {
     "data": {
      "text/plain": [
       "installment           319.089413\n",
       "days.with.cr.line    4560.767197\n",
       "dtype: float64"
      ]
     },
     "execution_count": 22,
     "metadata": {},
     "output_type": "execute_result"
    }
   ],
   "source": [
    "df[['installment', 'days.with.cr.line']].mean()"
   ]
  },
  {
   "cell_type": "markdown",
   "id": "1123699e-c3e8-43d4-85c3-4cfb531d08de",
   "metadata": {},
   "source": [
    "- To Know the average installment with days.with.cr.line"
   ]
  },
  {
   "cell_type": "markdown",
   "id": "cc261a53-b105-4cf9-9cac-e8d6a0b2069c",
   "metadata": {},
   "source": [
    "# 5 - What is the revol.bal average for an installment with arrangement ?"
   ]
  },
  {
   "cell_type": "code",
   "execution_count": 61,
   "id": "2b8c8897-af0b-4e05-afcf-b7245a67584c",
   "metadata": {},
   "outputs": [
    {
     "data": {
      "text/plain": [
       "installment\n",
       "15.67          0.0\n",
       "15.69          0.0\n",
       "15.75         56.0\n",
       "15.76       3461.0\n",
       "15.91          0.0\n",
       "            ...   \n",
       "916.95     36685.0\n",
       "918.02    118040.5\n",
       "922.42     20622.0\n",
       "926.83     79537.5\n",
       "940.14     18406.0\n",
       "Name: revol.bal, Length: 4788, dtype: float64"
      ]
     },
     "execution_count": 61,
     "metadata": {},
     "output_type": "execute_result"
    }
   ],
   "source": [
    "df.groupby('installment')['revol.bal'].mean()"
   ]
  },
  {
   "cell_type": "markdown",
   "id": "c2b83657-5095-4641-86c5-1b04e9be63b7",
   "metadata": {},
   "source": [
    "- To Know he revol.bal average for an installment with arrangement "
   ]
  },
  {
   "cell_type": "markdown",
   "id": "0baa7096-fb13-4934-9baf-eb0b877eed87",
   "metadata": {},
   "source": [
    "# 6 - What is the number of credit_card in the purpose column ?"
   ]
  },
  {
   "cell_type": "code",
   "execution_count": 66,
   "id": "035f65c3-f30c-40dd-a278-4f88c77a5e69",
   "metadata": {
    "tags": []
   },
   "outputs": [
    {
     "data": {
      "text/plain": [
       "credit.policy        1262\n",
       "purpose              1262\n",
       "int.rate             1262\n",
       "installment          1262\n",
       "log.annual.inc       1262\n",
       "dti                  1262\n",
       "fico                 1262\n",
       "days.with.cr.line    1262\n",
       "revol.bal            1262\n",
       "revol.util           1262\n",
       "inq.last.6mths       1262\n",
       "delinq.2yrs          1262\n",
       "pub.rec              1262\n",
       "not.fully.paid       1262\n",
       "dtype: int64"
      ]
     },
     "execution_count": 66,
     "metadata": {},
     "output_type": "execute_result"
    }
   ],
   "source": [
    "df[df[\"purpose\"]==\"credit_card\"].count()"
   ]
  },
  {
   "cell_type": "markdown",
   "id": "0f3205fc-8594-4ea8-8a65-4ba7950ae9bf",
   "metadata": {},
   "source": [
    "- To Know he number of credit_card in the purpose column"
   ]
  },
  {
   "cell_type": "markdown",
   "id": "f5a2d936-498f-4bf9-950f-e791526ff917",
   "metadata": {},
   "source": [
    "# 7 - What is the number of characters in the purpose ?"
   ]
  },
  {
   "cell_type": "code",
   "execution_count": 74,
   "id": "517d7ca2-5e3c-47e1-942d-8e87ffff1680",
   "metadata": {},
   "outputs": [
    {
     "data": {
      "text/plain": [
       "0       18\n",
       "1       11\n",
       "2       18\n",
       "3       18\n",
       "4       11\n",
       "        ..\n",
       "9573     9\n",
       "9574     9\n",
       "9575    18\n",
       "9576    16\n",
       "9577    18\n",
       "Name: purpose, Length: 9578, dtype: int64"
      ]
     },
     "execution_count": 74,
     "metadata": {},
     "output_type": "execute_result"
    }
   ],
   "source": [
    "df[\"purpose\"].apply(len)"
   ]
  },
  {
   "cell_type": "markdown",
   "id": "ecb4ae7e-73d6-4543-9aa4-fb8a6c39e5e1",
   "metadata": {},
   "source": [
    "- to know the number of characters in the column"
   ]
  },
  {
   "cell_type": "markdown",
   "id": "3038ae29-5f0d-43d1-96cb-11ec957c5e40",
   "metadata": {},
   "source": [
    "# 8 - how to get minimum of characters with 2 columns?"
   ]
  },
  {
   "cell_type": "code",
   "execution_count": 81,
   "id": "2dc8d287-b62a-4903-8f86-7d4ff90bee7c",
   "metadata": {},
   "outputs": [
    {
     "data": {
      "text/plain": [
       "installment           15.670000\n",
       "days.with.cr.line    178.958333\n",
       "dtype: float64"
      ]
     },
     "execution_count": 81,
     "metadata": {},
     "output_type": "execute_result"
    }
   ],
   "source": [
    "df[['installment', 'days.with.cr.line']].min()"
   ]
  },
  {
   "cell_type": "markdown",
   "id": "88e0be03-13f6-4769-b606-0c751e7fab48",
   "metadata": {},
   "source": [
    "- minimum of characters from installment and days.with.cr.line"
   ]
  },
  {
   "cell_type": "markdown",
   "id": "586f5752-6edd-49e0-b56e-ae37baf94d04",
   "metadata": {},
   "source": [
    "# 9 - how to get maximum of characters with column?"
   ]
  },
  {
   "cell_type": "code",
   "execution_count": 82,
   "id": "e5550f55-3b8d-4fbb-a3eb-a75ab5ab1e83",
   "metadata": {
    "tags": []
   },
   "outputs": [
    {
     "data": {
      "text/plain": [
       "credit.policy                         1\n",
       "purpose              debt_consolidation\n",
       "int.rate                         0.2121\n",
       "installment                      940.14\n",
       "log.annual.inc                14.528354\n",
       "dti                               29.96\n",
       "fico                                822\n",
       "days.with.cr.line           16259.04167\n",
       "revol.bal                        290341\n",
       "revol.util                        119.0\n",
       "inq.last.6mths                       33\n",
       "delinq.2yrs                          13\n",
       "pub.rec                               3\n",
       "not.fully.paid                        1\n",
       "dtype: object"
      ]
     },
     "execution_count": 82,
     "metadata": {},
     "output_type": "execute_result"
    }
   ],
   "source": [
    "df[df[\"purpose\"]==\"debt_consolidation\"].max()"
   ]
  },
  {
   "cell_type": "markdown",
   "id": "9df8adfe-9a7b-4664-be91-4fe1dddde1a0",
   "metadata": {},
   "source": [
    "- maximum of characters of :  'purpose' of row : 'debt_consolidation'"
   ]
  },
  {
   "cell_type": "markdown",
   "id": "ee2e7e3b-4656-4087-89eb-516c766fd264",
   "metadata": {},
   "source": [
    "# 10 - How to display two columns in one table only?"
   ]
  },
  {
   "cell_type": "code",
   "execution_count": 83,
   "id": "55cef7cd-214a-43e0-a68b-bb3c82ca992a",
   "metadata": {},
   "outputs": [
    {
     "data": {
      "text/html": [
       "<div>\n",
       "<style scoped>\n",
       "    .dataframe tbody tr th:only-of-type {\n",
       "        vertical-align: middle;\n",
       "    }\n",
       "\n",
       "    .dataframe tbody tr th {\n",
       "        vertical-align: top;\n",
       "    }\n",
       "\n",
       "    .dataframe thead th {\n",
       "        text-align: right;\n",
       "    }\n",
       "</style>\n",
       "<table border=\"1\" class=\"dataframe\">\n",
       "  <thead>\n",
       "    <tr style=\"text-align: right;\">\n",
       "      <th></th>\n",
       "      <th>purpose</th>\n",
       "      <th>days.with.cr.line</th>\n",
       "    </tr>\n",
       "  </thead>\n",
       "  <tbody>\n",
       "    <tr>\n",
       "      <th>0</th>\n",
       "      <td>debt_consolidation</td>\n",
       "      <td>5639.958333</td>\n",
       "    </tr>\n",
       "    <tr>\n",
       "      <th>1</th>\n",
       "      <td>credit_card</td>\n",
       "      <td>2760.000000</td>\n",
       "    </tr>\n",
       "    <tr>\n",
       "      <th>2</th>\n",
       "      <td>debt_consolidation</td>\n",
       "      <td>4710.000000</td>\n",
       "    </tr>\n",
       "    <tr>\n",
       "      <th>3</th>\n",
       "      <td>debt_consolidation</td>\n",
       "      <td>2699.958333</td>\n",
       "    </tr>\n",
       "    <tr>\n",
       "      <th>4</th>\n",
       "      <td>credit_card</td>\n",
       "      <td>4066.000000</td>\n",
       "    </tr>\n",
       "    <tr>\n",
       "      <th>...</th>\n",
       "      <td>...</td>\n",
       "      <td>...</td>\n",
       "    </tr>\n",
       "    <tr>\n",
       "      <th>9573</th>\n",
       "      <td>all_other</td>\n",
       "      <td>10474.000000</td>\n",
       "    </tr>\n",
       "    <tr>\n",
       "      <th>9574</th>\n",
       "      <td>all_other</td>\n",
       "      <td>4380.000000</td>\n",
       "    </tr>\n",
       "    <tr>\n",
       "      <th>9575</th>\n",
       "      <td>debt_consolidation</td>\n",
       "      <td>3450.041667</td>\n",
       "    </tr>\n",
       "    <tr>\n",
       "      <th>9576</th>\n",
       "      <td>home_improvement</td>\n",
       "      <td>1800.000000</td>\n",
       "    </tr>\n",
       "    <tr>\n",
       "      <th>9577</th>\n",
       "      <td>debt_consolidation</td>\n",
       "      <td>4740.000000</td>\n",
       "    </tr>\n",
       "  </tbody>\n",
       "</table>\n",
       "<p>9578 rows × 2 columns</p>\n",
       "</div>"
      ],
      "text/plain": [
       "                 purpose  days.with.cr.line\n",
       "0     debt_consolidation        5639.958333\n",
       "1            credit_card        2760.000000\n",
       "2     debt_consolidation        4710.000000\n",
       "3     debt_consolidation        2699.958333\n",
       "4            credit_card        4066.000000\n",
       "...                  ...                ...\n",
       "9573           all_other       10474.000000\n",
       "9574           all_other        4380.000000\n",
       "9575  debt_consolidation        3450.041667\n",
       "9576    home_improvement        1800.000000\n",
       "9577  debt_consolidation        4740.000000\n",
       "\n",
       "[9578 rows x 2 columns]"
      ]
     },
     "execution_count": 83,
     "metadata": {},
     "output_type": "execute_result"
    }
   ],
   "source": [
    "df[[\"purpose\" , \"days.with.cr.line\"]]"
   ]
  },
  {
   "cell_type": "markdown",
   "id": "2977d42e-f986-4dcb-8a82-b17c777ddd67",
   "metadata": {},
   "source": [
    "- display column : 'purpose' with : 'days.with.cr.line'"
   ]
  },
  {
   "cell_type": "markdown",
   "id": "3515b567-990c-471c-995a-31a1faaf58fe",
   "metadata": {},
   "source": [
    "# 11 - How to display 1 row shared with 2 different columns?"
   ]
  },
  {
   "cell_type": "code",
   "execution_count": 5,
   "id": "ac591f88-1b6c-443b-b457-da02bafb3225",
   "metadata": {
    "tags": []
   },
   "outputs": [
    {
     "data": {
      "text/plain": [
       "0       829.10\n",
       "1700     59.70\n",
       "1713     49.75\n",
       "1722    248.73\n",
       "1762    232.15\n",
       "         ...  \n",
       "8953     72.97\n",
       "9117     99.50\n",
       "9118     49.75\n",
       "9139    530.63\n",
       "9198    348.23\n",
       "Name: installment, Length: 165, dtype: float64"
      ]
     },
     "execution_count": 5,
     "metadata": {},
     "output_type": "execute_result"
    }
   ],
   "source": [
    "df[ df[\"int.rate\"] == 0.1189 ] [\"installment\"]"
   ]
  },
  {
   "cell_type": "markdown",
   "id": "8825fc81-c87a-4e34-beb3-6940de6370a9",
   "metadata": {
    "tags": []
   },
   "source": [
    "- to display 1 row shared with 2 different columns"
   ]
  },
  {
   "cell_type": "code",
   "execution_count": 6,
   "id": "2e918e42-3972-405c-9f16-38f70bed072d",
   "metadata": {},
   "outputs": [],
   "source": [
    "df.to_csv('example2.csv',index=False)"
   ]
  },
  {
   "cell_type": "code",
   "execution_count": null,
   "id": "661ce2f2-b966-43f0-8e47-f37336874a5f",
   "metadata": {},
   "outputs": [],
   "source": []
  },
  {
   "cell_type": "code",
   "execution_count": null,
   "id": "a5990e4f-1bcc-46cc-91ae-66c440600e23",
   "metadata": {},
   "outputs": [],
   "source": []
  }
 ],
 "metadata": {
  "kernelspec": {
   "display_name": "Python 3 (ipykernel)",
   "language": "python",
   "name": "python3"
  },
  "language_info": {
   "codemirror_mode": {
    "name": "ipython",
    "version": 3
   },
   "file_extension": ".py",
   "mimetype": "text/x-python",
   "name": "python",
   "nbconvert_exporter": "python",
   "pygments_lexer": "ipython3",
   "version": "3.10.9"
  }
 },
 "nbformat": 4,
 "nbformat_minor": 5
}
